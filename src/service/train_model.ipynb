{
 "cells": [
  {
   "cell_type": "code",
   "id": "initial_id",
   "metadata": {
    "collapsed": true,
    "ExecuteTime": {
     "end_time": "2025-04-14T10:31:14.859314Z",
     "start_time": "2025-04-14T10:31:11.420985Z"
    }
   },
   "source": [
    "import numpy as np\n",
    "from sklearn.svm import SVC\n",
    "from sklearn.metrics import accuracy_score, classification_report\n",
    "import matplotlib.pyplot as plt\n",
    "import pickle"
   ],
   "outputs": [],
   "execution_count": 1
  },
  {
   "metadata": {
    "ExecuteTime": {
     "end_time": "2025-04-14T10:31:14.931614Z",
     "start_time": "2025-04-14T10:31:14.917679Z"
    }
   },
   "cell_type": "code",
   "source": [
    "def load_npz_data():\n",
    "    \"\"\"\n",
    "    Returns:\n",
    "        tuple: (X_train, y_train, X_test, y_test)\n",
    "    \"\"\"\n",
    "    train_file = 'E:\\\\CelebMatch\\\\Dataset\\\\train.npz'\n",
    "    test_file = 'E:\\\\CelebMatch\\\\Dataset\\\\test.npz'\n",
    "    \n",
    "    # Tải train.npz\n",
    "    train_data = np.load(train_file)\n",
    "    X_train = train_data[\"embeddings\"]\n",
    "    y_train = train_data[\"labels\"]\n",
    "    \n",
    "    # Tải test.npz\n",
    "    test_data = np.load(test_file)\n",
    "    X_test = test_data[\"embeddings\"]\n",
    "    y_test = test_data[\"labels\"]\n",
    "    \n",
    "    print(f\"Train data: {X_train.shape}, Labels: {y_train.shape}\")\n",
    "    print(f\"Test data: {X_test.shape}, Labels: {y_test.shape}\")\n",
    "    print(f\"Nhãn duy nhất trong train: {np.unique(y_train)}\")\n",
    "    print(f\"Nhãn duy nhất trong test: {np.unique(y_test)}\")\n",
    "    \n",
    "    return X_train, y_train, X_test, y_test"
   ],
   "id": "987e1723c1c63f73",
   "outputs": [],
   "execution_count": 2
  },
  {
   "metadata": {
    "ExecuteTime": {
     "end_time": "2025-04-14T10:31:18.781074Z",
     "start_time": "2025-04-14T10:31:16.096100Z"
    }
   },
   "cell_type": "code",
   "source": [
    "X_train, y_train, X_test, y_test = load_npz_data()\n",
    "\n",
    "# Thiết lập tham số mặc định nếu không truyền params\n",
    "params = {'C': 10, 'degree': 2, 'gamma': 'scale', 'kernel': 'rbf', 'probability':True}\n",
    "\n",
    "# Khởi tạo và huấn luyện SVM trên toàn bộ X_train\n",
    "print(\"\\nHuấn luyện SVM trên toàn bộ dữ liệu train...\")\n",
    "svm_model = SVC(**params, random_state=42)\n",
    "svm_model.fit(X_train, y_train)\n",
    "\n",
    "# Đánh giá trên tập train\n",
    "train_pred = svm_model.predict(X_train)\n",
    "train_accuracy = accuracy_score(y_train, train_pred)\n",
    "print(f\"Train Accuracy: {train_accuracy:.4f}\")\n",
    "\n",
    "# Đánh giá trên tập test\n",
    "test_pred = svm_model.predict(X_test)\n",
    "test_accuracy = accuracy_score(y_test, test_pred)\n",
    "print(f\"Test Accuracy: {test_accuracy:.4f}\")\n",
    "\n",
    "# Vẽ biểu đồ so sánh train và test accuracy\n",
    "plt.figure(figsize=(6, 4))\n",
    "plt.bar(['Train Accuracy', 'Test Accuracy'], [train_accuracy, test_accuracy], color=['blue', 'orange'])\n",
    "plt.title('So sánh Train và Test Accuracy')\n",
    "plt.ylabel('Accuracy')\n",
    "plt.ylim(0, 1)\n",
    "for i, v in enumerate([train_accuracy, test_accuracy]):\n",
    "    plt.text(i, v + 0.02, f\"{v:.4f}\", ha='center')\n",
    "plt.grid(True, axis='y')\n",
    "plt.show()\n",
    "\n",
    "# In classification report trên tập test\n",
    "print(\"\\nClassification Report trên tập test:\")\n",
    "print(classification_report(y_test, test_pred))\n",
    "\n",
    "# Lưu mô hình vào file .pkl\n",
    "with open('E:\\\\CelebMatch\\\\Models\\\\svm_model.pkl', 'wb') as file:\n",
    "    pickle.dump(svm_model, file)\n",
    "print(\"\\nMô hình đã được lưu vào 'svm_model.pkl'\")"
   ],
   "id": "f6cd05352491b178",
   "outputs": [
    {
     "name": "stdout",
     "output_type": "stream",
     "text": [
      "Train data: (917, 512), Labels: (917,)\n",
      "Test data: (60, 512), Labels: (60,)\n",
      "Nhãn duy nhất trong train: [ 1  2  3  4  5  6  7  8  9 10 11 12 13 14 15 16 17 18 19 20 21 22 23 24\n",
      " 25 26 27 28 29 30]\n",
      "Nhãn duy nhất trong test: [ 1  2  3  4  5  6  7  8  9 10 11 12 13 14 15 16 17 18 19 20 21 22 23 24\n",
      " 25 26 27 28 29 30]\n",
      "\n",
      "Huấn luyện SVM trên toàn bộ dữ liệu train...\n",
      "Train Accuracy: 1.0000\n",
      "Test Accuracy: 0.8167\n"
     ]
    },
    {
     "data": {
      "text/plain": [
       "<Figure size 600x400 with 1 Axes>"
      ],
      "image/png": "[encoded data removed]"
     },
     "metadata": {},
     "output_type": "display_data"
    },
    {
     "name": "stdout",
     "output_type": "stream",
     "text": [
      "\n",
      "Classification Report trên tập test:\n",
      "              precision    recall  f1-score   support\n",
      "\n",
      "           1       0.50      1.00      0.67         2\n",
      "           2       1.00      1.00      1.00         2\n",
      "           3       1.00      1.00      1.00         2\n",
      "           4       1.00      1.00      1.00         2\n",
      "           5       0.50      1.00      0.67         2\n",
      "           6       0.67      1.00      0.80         2\n",
      "           7       1.00      1.00      1.00         2\n",
      "           8       1.00      1.00      1.00         2\n",
      "           9       0.50      0.50      0.50         2\n",
      "          10       0.50      1.00      0.67         2\n",
      "          11       1.00      0.50      0.67         2\n",
      "          12       1.00      1.00      1.00         2\n",
      "          13       0.67      1.00      0.80         2\n",
      "          14       0.50      1.00      0.67         2\n",
      "          15       1.00      1.00      1.00         2\n",
      "          16       1.00      1.00      1.00         2\n",
      "          17       1.00      1.00      1.00         2\n",
      "          18       1.00      1.00      1.00         2\n",
      "          19       1.00      0.50      0.67         2\n",
      "          20       1.00      0.50      0.67         2\n",
      "          21       1.00      1.00      1.00         2\n",
      "          22       0.00      0.00      0.00         2\n",
      "          23       1.00      0.50      0.67         2\n",
      "          24       1.00      0.50      0.67         2\n",
      "          25       1.00      0.50      0.67         2\n",
      "          26       1.00      1.00      1.00         2\n",
      "          27       1.00      1.00      1.00         2\n",
      "          28       1.00      1.00      1.00         2\n",
      "          29       1.00      0.50      0.67         2\n",
      "          30       1.00      0.50      0.67         2\n",
      "\n",
      "    accuracy                           0.82        60\n",
      "   macro avg       0.86      0.82      0.80        60\n",
      "weighted avg       0.86      0.82      0.80        60\n",
      "\n",
      "\n",
      "Mô hình đã được lưu vào 'svm_model.pkl'\n"
     ]
    },
    {
     "name": "stderr",
     "output_type": "stream",
     "text": [
      "E:\\CelebMatch\\.venv\\Lib\\site-packages\\sklearn\\metrics\\_classification.py:1565: UndefinedMetricWarning: Precision is ill-defined and being set to 0.0 in labels with no predicted samples. Use `zero_division` parameter to control this behavior.\n",
      "  _warn_prf(average, modifier, f\"{metric.capitalize()} is\", len(result))\n",
      "E:\\CelebMatch\\.venv\\Lib\\site-packages\\sklearn\\metrics\\_classification.py:1565: UndefinedMetricWarning: Precision is ill-defined and being set to 0.0 in labels with no predicted samples. Use `zero_division` parameter to control this behavior.\n",
      "  _warn_prf(average, modifier, f\"{metric.capitalize()} is\", len(result))\n",
      "E:\\CelebMatch\\.venv\\Lib\\site-packages\\sklearn\\metrics\\_classification.py:1565: UndefinedMetricWarning: Precision is ill-defined and being set to 0.0 in labels with no predicted samples. Use `zero_division` parameter to control this behavior.\n",
      "  _warn_prf(average, modifier, f\"{metric.capitalize()} is\", len(result))\n"
     ]
    }
   ],
   "execution_count": 3
  },
  {
   "metadata": {
    "ExecuteTime": {
     "end_time": "2025-04-14T10:31:18.884710Z",
     "start_time": "2025-04-14T10:31:18.880486Z"
    }
   },
   "cell_type": "code",
   "source": "",
   "id": "18dd52a0554f9dc7",
   "outputs": [],
   "execution_count": null
  }
 ],
 "metadata": {
  "kernelspec": {
   "display_name": "Python 3",
   "language": "python",
   "name": "python3"
  },
  "language_info": {
   "codemirror_mode": {
    "name": "ipython",
    "version": 2
   },
   "file_extension": ".py",
   "mimetype": "text/x-python",
   "name": "python",
   "nbconvert_exporter": "python",
   "pygments_lexer": "ipython2",
   "version": "2.7.6"
  }
 },
 "nbformat": 4,
 "nbformat_minor": 5
}
